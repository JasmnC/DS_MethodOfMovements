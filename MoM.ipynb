{
 "cells": [
  {
   "cell_type": "code",
   "execution_count": 1,
   "id": "3523fc93",
   "metadata": {},
   "outputs": [],
   "source": [
    "import numpy as np\n",
    "import pandas as pd\n",
    "import matplotlib.pyplot as plt\n",
    "from scipy.stats import gamma"
   ]
  },
  {
   "cell_type": "code",
   "execution_count": 2,
   "id": "666a6578",
   "metadata": {},
   "outputs": [],
   "source": [
    "df = pd.read_csv(\"wine_data.csv\",index_col=[0]).dropna(subset=['price'])\n",
    "# df.head(100)"
   ]
  },
  {
   "cell_type": "code",
   "execution_count": 3,
   "id": "abe349c1",
   "metadata": {},
   "outputs": [],
   "source": [
    "Q99 = int(df[\"price\"].quantile(0.99))\n",
    "# print(Q99)\n",
    "Q10 = int(df[\"price\"].quantile(0.10))"
   ]
  },
  {
   "cell_type": "code",
   "execution_count": 4,
   "id": "f92a5590",
   "metadata": {
    "scrolled": true
   },
   "outputs": [
    {
     "data": {
      "text/html": [
       "<div>\n",
       "<style scoped>\n",
       "    .dataframe tbody tr th:only-of-type {\n",
       "        vertical-align: middle;\n",
       "    }\n",
       "\n",
       "    .dataframe tbody tr th {\n",
       "        vertical-align: top;\n",
       "    }\n",
       "\n",
       "    .dataframe thead th {\n",
       "        text-align: right;\n",
       "    }\n",
       "</style>\n",
       "<table border=\"1\" class=\"dataframe\">\n",
       "  <thead>\n",
       "    <tr style=\"text-align: right;\">\n",
       "      <th></th>\n",
       "      <th>country</th>\n",
       "      <th>description</th>\n",
       "      <th>designation</th>\n",
       "      <th>points</th>\n",
       "      <th>price</th>\n",
       "      <th>province</th>\n",
       "      <th>region_1</th>\n",
       "      <th>region_2</th>\n",
       "      <th>variety</th>\n",
       "      <th>winery</th>\n",
       "    </tr>\n",
       "  </thead>\n",
       "  <tbody>\n",
       "    <tr>\n",
       "      <th>1</th>\n",
       "      <td>Spain</td>\n",
       "      <td>Ripe aromas of fig, blackberry and cassis are ...</td>\n",
       "      <td>Carodorum Selección Especial Reserva</td>\n",
       "      <td>96</td>\n",
       "      <td>110.0</td>\n",
       "      <td>Northern Spain</td>\n",
       "      <td>Toro</td>\n",
       "      <td>NaN</td>\n",
       "      <td>Tinta de Toro</td>\n",
       "      <td>Bodega Carmen Rodríguez</td>\n",
       "    </tr>\n",
       "    <tr>\n",
       "      <th>2</th>\n",
       "      <td>US</td>\n",
       "      <td>Mac Watson honors the memory of a wine once ma...</td>\n",
       "      <td>Special Selected Late Harvest</td>\n",
       "      <td>96</td>\n",
       "      <td>90.0</td>\n",
       "      <td>California</td>\n",
       "      <td>Knights Valley</td>\n",
       "      <td>Sonoma</td>\n",
       "      <td>Sauvignon Blanc</td>\n",
       "      <td>Macauley</td>\n",
       "    </tr>\n",
       "    <tr>\n",
       "      <th>3</th>\n",
       "      <td>US</td>\n",
       "      <td>This spent 20 months in 30% new French oak, an...</td>\n",
       "      <td>Reserve</td>\n",
       "      <td>96</td>\n",
       "      <td>65.0</td>\n",
       "      <td>Oregon</td>\n",
       "      <td>Willamette Valley</td>\n",
       "      <td>Willamette Valley</td>\n",
       "      <td>Pinot Noir</td>\n",
       "      <td>Ponzi</td>\n",
       "    </tr>\n",
       "    <tr>\n",
       "      <th>4</th>\n",
       "      <td>France</td>\n",
       "      <td>This is the top wine from La Bégude, named aft...</td>\n",
       "      <td>La Brûlade</td>\n",
       "      <td>95</td>\n",
       "      <td>66.0</td>\n",
       "      <td>Provence</td>\n",
       "      <td>Bandol</td>\n",
       "      <td>NaN</td>\n",
       "      <td>Provence red blend</td>\n",
       "      <td>Domaine de la Bégude</td>\n",
       "    </tr>\n",
       "    <tr>\n",
       "      <th>5</th>\n",
       "      <td>Spain</td>\n",
       "      <td>Deep, dense and pure from the opening bell, th...</td>\n",
       "      <td>Numanthia</td>\n",
       "      <td>95</td>\n",
       "      <td>73.0</td>\n",
       "      <td>Northern Spain</td>\n",
       "      <td>Toro</td>\n",
       "      <td>NaN</td>\n",
       "      <td>Tinta de Toro</td>\n",
       "      <td>Numanthia</td>\n",
       "    </tr>\n",
       "    <tr>\n",
       "      <th>...</th>\n",
       "      <td>...</td>\n",
       "      <td>...</td>\n",
       "      <td>...</td>\n",
       "      <td>...</td>\n",
       "      <td>...</td>\n",
       "      <td>...</td>\n",
       "      <td>...</td>\n",
       "      <td>...</td>\n",
       "      <td>...</td>\n",
       "      <td>...</td>\n",
       "    </tr>\n",
       "    <tr>\n",
       "      <th>108</th>\n",
       "      <td>US</td>\n",
       "      <td>This wine is dry and substantial, emphasizing ...</td>\n",
       "      <td>NaN</td>\n",
       "      <td>86</td>\n",
       "      <td>13.0</td>\n",
       "      <td>California</td>\n",
       "      <td>California</td>\n",
       "      <td>California Other</td>\n",
       "      <td>White Blend</td>\n",
       "      <td>Kitchen Sink</td>\n",
       "    </tr>\n",
       "    <tr>\n",
       "      <th>109</th>\n",
       "      <td>US</td>\n",
       "      <td>This is from a hillside estate vineyard and is...</td>\n",
       "      <td>Homestead Block</td>\n",
       "      <td>86</td>\n",
       "      <td>45.0</td>\n",
       "      <td>California</td>\n",
       "      <td>Napa Valley</td>\n",
       "      <td>Napa</td>\n",
       "      <td>Chardonnay</td>\n",
       "      <td>Kuleto Estate</td>\n",
       "    </tr>\n",
       "    <tr>\n",
       "      <th>110</th>\n",
       "      <td>Portugal</td>\n",
       "      <td>This state-owned estate of forests and vineyar...</td>\n",
       "      <td>Companhia das Lezírias Herdade de Catapereiro ...</td>\n",
       "      <td>86</td>\n",
       "      <td>12.0</td>\n",
       "      <td>Tejo</td>\n",
       "      <td>NaN</td>\n",
       "      <td>NaN</td>\n",
       "      <td>Portuguese Red</td>\n",
       "      <td>Wines &amp; Winemakers</td>\n",
       "    </tr>\n",
       "    <tr>\n",
       "      <th>111</th>\n",
       "      <td>Argentina</td>\n",
       "      <td>This copper-tinted rosé of Pinot Noir smells l...</td>\n",
       "      <td>Terroir Único Pinot Noir</td>\n",
       "      <td>86</td>\n",
       "      <td>12.0</td>\n",
       "      <td>Mendoza Province</td>\n",
       "      <td>Tupungato</td>\n",
       "      <td>NaN</td>\n",
       "      <td>Rosé</td>\n",
       "      <td>Zorzal</td>\n",
       "    </tr>\n",
       "    <tr>\n",
       "      <th>112</th>\n",
       "      <td>US</td>\n",
       "      <td>This mountain-grown wine is hugely tannic and ...</td>\n",
       "      <td>Limited Release Cold Springs Vineyard</td>\n",
       "      <td>86</td>\n",
       "      <td>125.0</td>\n",
       "      <td>California</td>\n",
       "      <td>Howell Mountain</td>\n",
       "      <td>Napa</td>\n",
       "      <td>Cabernet Sauvignon</td>\n",
       "      <td>Charles Krug</td>\n",
       "    </tr>\n",
       "  </tbody>\n",
       "</table>\n",
       "<p>100 rows × 10 columns</p>\n",
       "</div>"
      ],
      "text/plain": [
       "       country                                        description  \\\n",
       "1        Spain  Ripe aromas of fig, blackberry and cassis are ...   \n",
       "2           US  Mac Watson honors the memory of a wine once ma...   \n",
       "3           US  This spent 20 months in 30% new French oak, an...   \n",
       "4       France  This is the top wine from La Bégude, named aft...   \n",
       "5        Spain  Deep, dense and pure from the opening bell, th...   \n",
       "..         ...                                                ...   \n",
       "108         US  This wine is dry and substantial, emphasizing ...   \n",
       "109         US  This is from a hillside estate vineyard and is...   \n",
       "110   Portugal  This state-owned estate of forests and vineyar...   \n",
       "111  Argentina  This copper-tinted rosé of Pinot Noir smells l...   \n",
       "112         US  This mountain-grown wine is hugely tannic and ...   \n",
       "\n",
       "                                           designation  points  price  \\\n",
       "1                 Carodorum Selección Especial Reserva      96  110.0   \n",
       "2                        Special Selected Late Harvest      96   90.0   \n",
       "3                                              Reserve      96   65.0   \n",
       "4                                           La Brûlade      95   66.0   \n",
       "5                                            Numanthia      95   73.0   \n",
       "..                                                 ...     ...    ...   \n",
       "108                                                NaN      86   13.0   \n",
       "109                                    Homestead Block      86   45.0   \n",
       "110  Companhia das Lezírias Herdade de Catapereiro ...      86   12.0   \n",
       "111                           Terroir Único Pinot Noir      86   12.0   \n",
       "112              Limited Release Cold Springs Vineyard      86  125.0   \n",
       "\n",
       "             province           region_1           region_2  \\\n",
       "1      Northern Spain               Toro                NaN   \n",
       "2          California     Knights Valley             Sonoma   \n",
       "3              Oregon  Willamette Valley  Willamette Valley   \n",
       "4            Provence             Bandol                NaN   \n",
       "5      Northern Spain               Toro                NaN   \n",
       "..                ...                ...                ...   \n",
       "108        California         California   California Other   \n",
       "109        California        Napa Valley               Napa   \n",
       "110              Tejo                NaN                NaN   \n",
       "111  Mendoza Province          Tupungato                NaN   \n",
       "112        California    Howell Mountain               Napa   \n",
       "\n",
       "                variety                   winery  \n",
       "1         Tinta de Toro  Bodega Carmen Rodríguez  \n",
       "2       Sauvignon Blanc                 Macauley  \n",
       "3            Pinot Noir                    Ponzi  \n",
       "4    Provence red blend     Domaine de la Bégude  \n",
       "5         Tinta de Toro                Numanthia  \n",
       "..                  ...                      ...  \n",
       "108         White Blend             Kitchen Sink  \n",
       "109          Chardonnay            Kuleto Estate  \n",
       "110      Portuguese Red       Wines & Winemakers  \n",
       "111                Rosé                   Zorzal  \n",
       "112  Cabernet Sauvignon             Charles Krug  \n",
       "\n",
       "[100 rows x 10 columns]"
      ]
     },
     "execution_count": 4,
     "metadata": {},
     "output_type": "execute_result"
    }
   ],
   "source": [
    "df = df[df['price'] <= Q99]\n",
    "df = df[df['price'] >= Q10]\n",
    "df.head(100)"
   ]
  },
  {
   "cell_type": "markdown",
   "id": "8f01b331",
   "metadata": {},
   "source": [
    "Create a new column with price intervals\n",
    "Count the points in each interval for each point value\n",
    "Rename the columns to match your desired format\n",
    "Normalize each column to add up to 100\n",
    "Fill NaN values with 0"
   ]
  },
  {
   "cell_type": "code",
   "execution_count": 5,
   "id": "b9ec3d35",
   "metadata": {},
   "outputs": [
    {
     "name": "stdout",
     "output_type": "stream",
     "text": [
      "        range10_15  range15_20  range20_25  range25_30  range30_35  \\\n",
      "points                                                               \n",
      "80               1           0           0           0           0   \n",
      "81               1           1           1           0           0   \n",
      "82               4           3           2           2           2   \n",
      "83               8           5           3           2           2   \n",
      "84              13           8           7           5           4   \n",
      "85              15          11           8           7           5   \n",
      "86              17          14          11          10           8   \n",
      "87              18          20          17          14          13   \n",
      "88              10          14          16          15          13   \n",
      "89               5           7          10          11          11   \n",
      "90               2           7          11          13          15   \n",
      "91               0           2           5           7           9   \n",
      "92               0           1           2           5           7   \n",
      "93               0           0           0           1           3   \n",
      "94               0           0           0           0           0   \n",
      "95               0           0           0           0           0   \n",
      "96               0           0           0           0           0   \n",
      "97               0           0           0           0           0   \n",
      "98               0           0           0           0           0   \n",
      "99               0           0           0           0           0   \n",
      "100              0           0           0           0           0   \n",
      "\n",
      "        range35_40  range40_45  range45_50  range50_55  range55_60  ...  \\\n",
      "points                                                              ...   \n",
      "80               0           0           0           0           0  ...   \n",
      "81               0           0           0           0           0  ...   \n",
      "82               1           1           0           0           0  ...   \n",
      "83               2           1           0           1           0  ...   \n",
      "84               3           3           2           1           2  ...   \n",
      "85               5           3           3           2           2  ...   \n",
      "86               7           6           4           4           3  ...   \n",
      "87              12           9          10           8           7  ...   \n",
      "88              11          10          10           9           8  ...   \n",
      "89              10          11          10           9           8  ...   \n",
      "90              15          16          16          16          16  ...   \n",
      "91              11          11          13          13          14  ...   \n",
      "92               9          12          13          14          15  ...   \n",
      "93               5           6           8           8          11  ...   \n",
      "94               2           3           3           5           6  ...   \n",
      "95               0           1           1           2           2  ...   \n",
      "96               0           0           0           0           0  ...   \n",
      "97               0           0           0           0           0  ...   \n",
      "98               0           0           0           0           0  ...   \n",
      "99               0           0           0           0           0  ...   \n",
      "100              0           0           0           0           0  ...   \n",
      "\n",
      "        range100_105  range105_110  range110_115  range115_120  range120_125  \\\n",
      "points                                                                         \n",
      "80                 0             0             0             0             0   \n",
      "81                 0             0             0             0             0   \n",
      "82                 0             0             0             0             0   \n",
      "83                 0             0             0             0             0   \n",
      "84                 0             0             1             0             0   \n",
      "85                 0             0             1             0             1   \n",
      "86                 2             0             3             1             0   \n",
      "87                 3             1             2             3             0   \n",
      "88                 2             2             3             7             2   \n",
      "89                 5             4             4             6             5   \n",
      "90                12            16            13             4             5   \n",
      "91                11            11            10            16            12   \n",
      "92                14            12            14            12            16   \n",
      "93                15            17            19            17            17   \n",
      "94                13            20            13            17            13   \n",
      "95                 8             9             5             9            14   \n",
      "96                 3             2             3             3             5   \n",
      "97                 2             0             1             0             3   \n",
      "98                 1             0             1             0             0   \n",
      "99                 0             0             0             0             0   \n",
      "100                0             0             0             0             0   \n",
      "\n",
      "        range125_130  range130_135  range135_140  range140_145  range145_150  \n",
      "points                                                                        \n",
      "80                 0             0             0             0             0  \n",
      "81                 0             0             0             0             0  \n",
      "82                 0             0             0             0             0  \n",
      "83                 0             0             0             0             0  \n",
      "84                 0             1             4             0             0  \n",
      "85                 1             0             0             1             1  \n",
      "86                 1             0             0             0             1  \n",
      "87                 3             4             7             2             2  \n",
      "88                 5             2             6             4             6  \n",
      "89                 4             5             1             2             3  \n",
      "90                 7             4            13             7             3  \n",
      "91                 7             8             7             5             6  \n",
      "92                15            12             7            13            19  \n",
      "93                17            16            20            28            21  \n",
      "94                16            21            11            11            22  \n",
      "95                 9             7             6            13            10  \n",
      "96                 6             3             4             2             0  \n",
      "97                 1             8             2             2             1  \n",
      "98                 1             2             5             0             1  \n",
      "99                 0             0             0             2             0  \n",
      "100                0             0             0             0             0  \n",
      "\n",
      "[21 rows x 28 columns]\n"
     ]
    },
    {
     "name": "stderr",
     "output_type": "stream",
     "text": [
      "/var/folders/16/2q3nw0ps4mz9nky281dlnzpm0000gn/T/ipykernel_36073/2236638252.py:4: UserWarning: Pandas doesn't allow columns to be created via a new attribute name - see https://pandas.pydata.org/pandas-docs/stable/indexing.html#attribute-access\n",
      "  temp.rows=[i for i in range(0,20)]\n"
     ]
    }
   ],
   "source": [
    "df['price_interval'] = pd.cut(df['price'], bins=np.arange(5*(Q10//5), 5*(Q99//5)+5, 5), right=False)\n",
    "\n",
    "temp = pd.crosstab(index=df['points'], columns=df['price_interval'])\n",
    "temp.rows=[i for i in range(0,20)]\n",
    "temp.columns = [\"range\"+str(int(b))+\"_\"+str(int(b)+5) for b in range(5*(Q10//5),5*(Q99//5),5)]\n",
    "# print(temp)\n",
    "\n",
    "df = temp.apply(lambda x: (x / x.sum()) * 100, axis=0)\n",
    "df = df.fillna(0).astype(int)\n",
    "\n",
    "print(df)"
   ]
  },
  {
   "cell_type": "code",
   "execution_count": 6,
   "id": "3a2f4466",
   "metadata": {},
   "outputs": [],
   "source": [
    "# _ = df.hist(sharex=True, sharey=True, grid=False)\n",
    "# plt.tight_layout()"
   ]
  },
  {
   "cell_type": "code",
   "execution_count": 7,
   "id": "a9dea837",
   "metadata": {
    "scrolled": true
   },
   "outputs": [
    {
     "name": "stdout",
     "output_type": "stream",
     "text": [
      "        range10_15  range15_20  range20_25  range25_30  range30_35  \\\n",
      "points                                                               \n",
      "80               0           0           0           0           0   \n",
      "81               1           1           1           0           0   \n",
      "82               8           6           4           4           4   \n",
      "83              24          15           9           6           6   \n",
      "84              52          32          28          20          16   \n",
      "85              75          55          40          35          25   \n",
      "86             102          84          66          60          48   \n",
      "87             126         140         119          98          91   \n",
      "88              80         112         128         120         104   \n",
      "89              45          63          90          99          99   \n",
      "90              20          70         110         130         150   \n",
      "91               0          22          55          77          99   \n",
      "92               0          12          24          60          84   \n",
      "93               0           0           0          13          39   \n",
      "94               0           0           0           0           0   \n",
      "95               0           0           0           0           0   \n",
      "96               0           0           0           0           0   \n",
      "97               0           0           0           0           0   \n",
      "98               0           0           0           0           0   \n",
      "99               0           0           0           0           0   \n",
      "100              0           0           0           0           0   \n",
      "\n",
      "        range35_40  range40_45  range45_50  range50_55  range55_60  ...  \\\n",
      "points                                                              ...   \n",
      "80               0           0           0           0           0  ...   \n",
      "81               0           0           0           0           0  ...   \n",
      "82               2           2           0           0           0  ...   \n",
      "83               6           3           0           3           0  ...   \n",
      "84              12          12           8           4           8  ...   \n",
      "85              25          15          15          10          10  ...   \n",
      "86              42          36          24          24          18  ...   \n",
      "87              84          63          70          56          49  ...   \n",
      "88              88          80          80          72          64  ...   \n",
      "89              90          99          90          81          72  ...   \n",
      "90             150         160         160         160         160  ...   \n",
      "91             121         121         143         143         154  ...   \n",
      "92             108         144         156         168         180  ...   \n",
      "93              65          78         104         104         143  ...   \n",
      "94              28          42          42          70          84  ...   \n",
      "95               0          15          15          30          30  ...   \n",
      "96               0           0           0           0           0  ...   \n",
      "97               0           0           0           0           0  ...   \n",
      "98               0           0           0           0           0  ...   \n",
      "99               0           0           0           0           0  ...   \n",
      "100              0           0           0           0           0  ...   \n",
      "\n",
      "        range100_105  range105_110  range110_115  range115_120  range120_125  \\\n",
      "points                                                                         \n",
      "80                 0             0             0             0             0   \n",
      "81                 0             0             0             0             0   \n",
      "82                 0             0             0             0             0   \n",
      "83                 0             0             0             0             0   \n",
      "84                 0             0             4             0             0   \n",
      "85                 0             0             5             0             5   \n",
      "86                12             0            18             6             0   \n",
      "87                21             7            14            21             0   \n",
      "88                16            16            24            56            16   \n",
      "89                45            36            36            54            45   \n",
      "90               120           160           130            40            50   \n",
      "91               121           121           110           176           132   \n",
      "92               168           144           168           144           192   \n",
      "93               195           221           247           221           221   \n",
      "94               182           280           182           238           182   \n",
      "95               120           135            75           135           210   \n",
      "96                48            32            48            48            80   \n",
      "97                34             0            17             0            51   \n",
      "98                18             0            18             0             0   \n",
      "99                 0             0             0             0             0   \n",
      "100                0             0             0             0             0   \n",
      "\n",
      "        range125_130  range130_135  range135_140  range140_145  range145_150  \n",
      "points                                                                        \n",
      "80                 0             0             0             0             0  \n",
      "81                 0             0             0             0             0  \n",
      "82                 0             0             0             0             0  \n",
      "83                 0             0             0             0             0  \n",
      "84                 0             4            16             0             0  \n",
      "85                 5             0             0             5             5  \n",
      "86                 6             0             0             0             6  \n",
      "87                21            28            49            14            14  \n",
      "88                40            16            48            32            48  \n",
      "89                36            45             9            18            27  \n",
      "90                70            40           130            70            30  \n",
      "91                77            88            77            55            66  \n",
      "92               180           144            84           156           228  \n",
      "93               221           208           260           364           273  \n",
      "94               224           294           154           154           308  \n",
      "95               135           105            90           195           150  \n",
      "96                96            48            64            32             0  \n",
      "97                17           136            34            34            17  \n",
      "98                18            36            90             0            18  \n",
      "99                 0             0             0            38             0  \n",
      "100                0             0             0             0             0  \n",
      "\n",
      "[21 rows x 28 columns]\n"
     ]
    }
   ],
   "source": [
    "df_weight = df.multiply((df.index - 80), axis=0)\n",
    "print(df_weight)"
   ]
  },
  {
   "cell_type": "code",
   "execution_count": 8,
   "id": "bd1a7571",
   "metadata": {},
   "outputs": [],
   "source": [
    "mean = df_weight.sum()/100\n",
    "# mean"
   ]
  },
  {
   "cell_type": "code",
   "execution_count": 9,
   "id": "b4c20006",
   "metadata": {},
   "outputs": [],
   "source": [
    "variance = df.var()\n",
    "# variance"
   ]
  },
  {
   "cell_type": "code",
   "execution_count": 10,
   "id": "3702b41e",
   "metadata": {},
   "outputs": [],
   "source": [
    "alpha_mom = (mean**2)/variance\n",
    "beta_mom = variance/mean\n",
    "# alpha_mom, beta_mom"
   ]
  },
  {
   "cell_type": "code",
   "execution_count": 11,
   "id": "cb505d09",
   "metadata": {},
   "outputs": [],
   "source": [
    "setsize=\"\"\"\n",
    "axs[0, 0].set_xlim(0, 20)\n",
    "axs[0, 0].set_ylim(0, 0.5)\n",
    "\"\"\""
   ]
  },
  {
   "cell_type": "markdown",
   "id": "033a814c",
   "metadata": {
    "scrolled": true
   },
   "source": [
    "List of values for \"underX\"\n",
    "Fill in the desired values\n",
    "Create a figure with subplots\n",
    "\n",
    "Create a histogram for the current \"underX\"\n",
    " Fit and plot the gamma distribution for the current \"underX\"\n",
    " Annotate with parameter estimates\n",
    "\n",
    "Set titles for the subplots (underX values)\n"
   ]
  },
  {
   "cell_type": "code",
   "execution_count": 12,
   "id": "6640ea23",
   "metadata": {},
   "outputs": [
    {
     "data": {
      "image/png": "[encoded data removed]",
      "text/plain": [
       "<Figure size 720x720 with 30 Axes>"
      ]
     },
     "metadata": {
      "needs_background": "light"
     },
     "output_type": "display_data"
    }
   ],
   "source": [
    "range_values= [i for i in range(5*(Q10//5),5*(Q99//5),5)] \n",
    "fig, axs = plt.subplots(6, 5, figsize=(10, 10), sharex=True, sharey=True)\n",
    "\n",
    "\n",
    "for i, rangeX in enumerate(range_values):\n",
    "    \n",
    "    row_idx = i // 5\n",
    "    col_idx = i % 5\n",
    "\n",
    "    axs[row_idx, col_idx].hist(df[f'range{rangeX}_{rangeX+5}'], density=True, bins=7)\n",
    "    axs[row_idx, col_idx].plot(np.linspace(0, 10), gamma.pdf(np.linspace(0, 10), alpha_mom[i], beta_mom[i]))\n",
    "    if row_idx==0 and col_idx==0: exec(setsize)\n",
    "\n",
    "    label = 'alpha = {0:.2f}\\nbeta = {1:.2f}'.format(alpha_mom[i], beta_mom[i])\n",
    "    axs[row_idx, col_idx].annotate(label, xy=(8, 0.3))\n",
    "    axs[row_idx, col_idx].set_title(f'range{rangeX}to{rangeX+5}')\n",
    "\n",
    "plt.tight_layout()\n",
    "plt.show()"
   ]
  },
  {
   "cell_type": "code",
   "execution_count": 13,
   "id": "9180cdf7",
   "metadata": {},
   "outputs": [
    {
     "data": {
      "text/plain": [
       "[<matplotlib.lines.Line2D at 0x7f97c3d47d00>]"
      ]
     },
     "execution_count": 13,
     "metadata": {},
     "output_type": "execute_result"
    },
    {
     "data": {
      "image/png": "[encoded data removed]",
      "text/plain": [
       "<Figure size 432x288 with 1 Axes>"
      ]
     },
     "metadata": {
      "needs_background": "light"
     },
     "output_type": "display_data"
    }
   ],
   "source": [
    "df.range10_15.hist(density=True, bins=10)\n",
    "plt.plot(np.linspace(0, 10), gamma.pdf(np.linspace(0, 10), alpha_mom[0], beta_mom[0]))"
   ]
  },
  {
   "cell_type": "code",
   "execution_count": 14,
   "id": "7e9401b5",
   "metadata": {},
   "outputs": [],
   "source": [
    "def prediction(price):\n",
    "    # process int to 5\n",
    "    price = 5*(price//5)\n",
    "    x_values = np.linspace(0, 10)\n",
    "    pdf_values = gamma.pdf(x_values, a=alpha_mom[f'range{price}_{price+5}'], scale=1/beta_mom[f'range{price}_{price+5}'])\n",
    "    plt.plot(x_values, pdf_values, label=f'{price} Predicted Satisfaction Grade', color='orange')\n",
    "\n",
    "    # Add labels and title\n",
    "    plt.xlabel('Grade (scale of 10)')\n",
    "    plt.ylabel('Probability Density')\n",
    "    plt.title(f'Predicted Satisfaction Grade Distribution for {price}')\n",
    "\n",
    "    # Add legend\n",
    "    plt.legend()\n",
    "    plt.show()"
   ]
  },
  {
   "cell_type": "code",
   "execution_count": 15,
   "id": "e2a0e8f8",
   "metadata": {},
   "outputs": [
    {
     "data": {
      "image/png": "[encoded data removed]",
      "text/plain": [
       "<Figure size 432x288 with 1 Axes>"
      ]
     },
     "metadata": {
      "needs_background": "light"
     },
     "output_type": "display_data"
    }
   ],
   "source": [
    "prediction(36)"
   ]
  },
  {
   "cell_type": "code",
   "execution_count": null,
   "id": "94fed0f9",
   "metadata": {},
   "outputs": [
    {
     "name": "stderr",
     "output_type": "stream",
     "text": [
      "/Users/yuujadz/opt/anaconda3/lib/python3.9/site-packages/deprecat/classic.py:215: FutureWarning: In v4.0, pm.sample will return an `arviz.InferenceData` object instead of a `MultiTrace` by default. You can pass return_inferencedata=True or return_inferencedata=False to be safe and silence this warning.\n",
      "  return wrapped_(*args_, **kwargs_)\n",
      "Auto-assigning NUTS sampler...\n",
      "Initializing NUTS using jitter+adapt_diag...\n",
      "Multiprocess sampling (2 chains in 2 jobs)\n",
      "NUTS: [sigma, beta, alpha]\n"
     ]
    },
    {
     "data": {
      "text/html": [
       "\n",
       "<style>\n",
       "    /* Turns off some styling */\n",
       "    progress {\n",
       "        /* gets rid of default border in Firefox and Opera. */\n",
       "        border: none;\n",
       "        /* Needs to be in here for Safari polyfill so background images work as expected. */\n",
       "        background-size: auto;\n",
       "    }\n",
       "    progress:not([value]), progress:not([value])::-webkit-progress-bar {\n",
       "        background: repeating-linear-gradient(45deg, #7e7e7e, #7e7e7e 10px, #5c5c5c 10px, #5c5c5c 20px);\n",
       "    }\n",
       "    .progress-bar-interrupted, .progress-bar-interrupted::-webkit-progress-bar {\n",
       "        background: #F44336;\n",
       "    }\n",
       "</style>\n"
      ],
      "text/plain": [
       "<IPython.core.display.HTML object>"
      ]
     },
     "metadata": {},
     "output_type": "display_data"
    },
    {
     "data": {
      "text/html": [
       "\n",
       "    <div>\n",
       "      <progress value='5' class='' max='10000' style='width:300px; height:20px; vertical-align: middle;'></progress>\n",
       "      0.05% [5/10000 00:00&lt;00:55 Sampling 2 chains, 0 divergences]\n",
       "    </div>\n",
       "    "
      ],
      "text/plain": [
       "<IPython.core.display.HTML object>"
      ]
     },
     "metadata": {},
     "output_type": "display_data"
    }
   ],
   "source": [
    "import pymc3 as pm\n",
    "import numpy as np\n",
    "\n",
    "df_new = pd.read_csv(\"wine_data.csv\").dropna(subset=['price'])\n",
    "x = df_new['price'].values\n",
    "y = df_new['points'].values-80\n",
    "\n",
    "# Model\n",
    "with pm.Model() as model:\n",
    "    alpha = pm.Normal('alpha', mu=0, sigma=10, testval=0.0)\n",
    "    beta = pm.Normal('beta', mu=0, sigma=10, testval=0.0)\n",
    "    \n",
    "    sigma = pm.HalfNormal('sigma', sigma=1, testval=1.0)\n",
    "    \n",
    "    mu = alpha + beta * x\n",
    "    \n",
    "    likelihood = pm.Normal('y', mu=mu, sigma=sigma, observed=y)\n",
    "\n",
    "with model:\n",
    "    trace = pm.sample(2000, tune=3000, cores=2, init='auto')\n",
    "\n",
    "pm.summary(trace)\n",
    "pm.traceplot(trace)\n"
   ]
  },
  {
   "cell_type": "code",
   "execution_count": null,
   "id": "37c57658",
   "metadata": {},
   "outputs": [],
   "source": []
  }
 ],
 "metadata": {
  "kernelspec": {
   "display_name": "Python 3 (ipykernel)",
   "language": "python",
   "name": "python3"
  },
  "language_info": {
   "codemirror_mode": {
    "name": "ipython",
    "version": 3
   },
   "file_extension": ".py",
   "mimetype": "text/x-python",
   "name": "python",
   "nbconvert_exporter": "python",
   "pygments_lexer": "ipython3",
   "version": "3.9.7"
  }
 },
 "nbformat": 4,
 "nbformat_minor": 5
}
